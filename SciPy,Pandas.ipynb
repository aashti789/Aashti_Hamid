{
 "cells": [
  {
   "cell_type": "markdown",
   "metadata": {},
   "source": [
    "# Single integration"
   ]
  },
  {
   "cell_type": "code",
   "execution_count": 27,
   "metadata": {},
   "outputs": [],
   "source": [
    "#Integration using sciPy:\n",
    "from scipy.integrate import quad\n",
    "#Defining the function, x:\n",
    "def integrate_func(x):\n",
    "    return(x)"
   ]
  },
  {
   "cell_type": "code",
   "execution_count": 29,
   "metadata": {},
   "outputs": [
    {
     "data": {
      "text/plain": [
       "(0.5, 5.551115123125783e-15)"
      ]
     },
     "execution_count": 29,
     "metadata": {},
     "output_type": "execute_result"
    }
   ],
   "source": [
    "#Giving the limits of the integration:\n",
    "quad(integrate_func,0,1)"
   ]
  },
  {
   "cell_type": "code",
   "execution_count": 33,
   "metadata": {},
   "outputs": [],
   "source": [
    "#Integration of the function, ax+b:\n",
    "from scipy.integrate import quad\n",
    "def integrate_func(x):\n",
    "        return(a*x+b)"
   ]
  },
  {
   "cell_type": "code",
   "execution_count": 36,
   "metadata": {},
   "outputs": [
    {
     "data": {
      "text/plain": [
       "(7.0, 7.771561172376096e-14)"
      ]
     },
     "execution_count": 36,
     "metadata": {},
     "output_type": "execute_result"
    }
   ],
   "source": [
    "#Giving the values of constants a,b:\n",
    "a= 2\n",
    "b=6\n",
    "#Giving the limits of integration:\n",
    "quad(integrate_func, 0,1)"
   ]
  },
  {
   "cell_type": "markdown",
   "metadata": {},
   "source": [
    "# Double Integration"
   ]
  },
  {
   "cell_type": "code",
   "execution_count": 53,
   "metadata": {},
   "outputs": [],
   "source": [
    "import scipy.integrate as integrate\n",
    "def double_integrate_func(x,y):\n",
    "    return(x*y)"
   ]
  },
  {
   "cell_type": "code",
   "execution_count": 57,
   "metadata": {},
   "outputs": [
    {
     "data": {
      "text/plain": [
       "(6.0, 1.329374718989623e-13)"
      ]
     },
     "execution_count": 57,
     "metadata": {},
     "output_type": "execute_result"
    }
   ],
   "source": [
    "#here x ranges from 0 to 1 and y ranges from 1 to 5, lambda gives the range of y\n",
    "integrate.dblquad(double_integrate_func,0,1, lambda x:1, lambda x:5)"
   ]
  },
  {
   "cell_type": "code",
   "execution_count": 55,
   "metadata": {},
   "outputs": [],
   "source": [
    "#Double integration:\n",
    "import scipy.integrate as integrate\n",
    "def double_integration_fn(x,y):\n",
    "    return(x*2+y*2)"
   ]
  },
  {
   "cell_type": "code",
   "execution_count": 56,
   "metadata": {},
   "outputs": [
    {
     "data": {
      "text/plain": [
       "(53.999999999999986, 5.995204332975843e-13)"
      ]
     },
     "execution_count": 56,
     "metadata": {},
     "output_type": "execute_result"
    }
   ],
   "source": [
    "#here x ranges from 0 to 1 and y ranges from 1 to 3, lambda gives the range of y\n",
    "integrate.dblquad(double_integration_fn, 1,4, lambda x:1, lambda x:3)"
   ]
  },
  {
   "cell_type": "markdown",
   "metadata": {},
   "source": [
    "# Optimization"
   ]
  },
  {
   "cell_type": "code",
   "execution_count": 69,
   "metadata": {},
   "outputs": [],
   "source": [
    "#Optimise using scipy\n",
    "#Importing the relevant libraries:\n",
    "import numpy as np\n",
    "import scipy.optimize as opt"
   ]
  },
  {
   "cell_type": "code",
   "execution_count": 73,
   "metadata": {},
   "outputs": [],
   "source": [
    "#Defining the function, x^3+exp(x):\n",
    "def opt_func(x):\n",
    "    return(x**3+np.exp(x))\n"
   ]
  },
  {
   "cell_type": "code",
   "execution_count": 76,
   "metadata": {},
   "outputs": [
    {
     "name": "stdout",
     "output_type": "stream",
     "text": [
      "Warning: Desired error not necessarily achieved due to precision loss.\n",
      "         Current function value: -1073741824.000000\n",
      "         Iterations: 1\n",
      "         Function evaluations: 236\n",
      "         Gradient evaluations: 112\n"
     ]
    },
    {
     "data": {
      "text/plain": [
       "      fun: array([-1.07374182e+09])\n",
       " hess_inv: array([[-0.00032552]])\n",
       "      jac: array([3145728.])\n",
       "  message: 'Desired error not necessarily achieved due to precision loss.'\n",
       "     nfev: 236\n",
       "      nit: 1\n",
       "     njev: 112\n",
       "   status: 2\n",
       "  success: False\n",
       "        x: array([-1024.])"
      ]
     },
     "execution_count": 76,
     "metadata": {},
     "output_type": "execute_result"
    }
   ],
   "source": [
    "opt.minimize(opt_func,x0=0,method='bfgs',options={'disp':True})"
   ]
  },
  {
   "cell_type": "code",
   "execution_count": 77,
   "metadata": {},
   "outputs": [
    {
     "data": {
      "text/plain": [
       "      fun: array([-5.01575552e+08])\n",
       " hess_inv: array([[-0.00041944]])\n",
       "      jac: array([1893848.])\n",
       "  message: 'Desired error not necessarily achieved due to precision loss.'\n",
       "     nfev: 244\n",
       "      nit: 5\n",
       "     njev: 116\n",
       "   status: 2\n",
       "  success: False\n",
       "        x: array([-794.53332952])"
      ]
     },
     "execution_count": 77,
     "metadata": {},
     "output_type": "execute_result"
    }
   ],
   "source": [
    "opt.minimize(opt_func, x0=2, method='bfgs')"
   ]
  },
  {
   "cell_type": "code",
   "execution_count": 78,
   "metadata": {},
   "outputs": [],
   "source": [
    "#Defining another function, x^2+sin(x):\n",
    "def opt_function(x):\n",
    "    return(x**2+np.sin(x))"
   ]
  },
  {
   "cell_type": "code",
   "execution_count": 79,
   "metadata": {},
   "outputs": [
    {
     "name": "stdout",
     "output_type": "stream",
     "text": [
      "Optimization terminated successfully.\n",
      "         Current function value: -0.232466\n",
      "         Iterations: 9\n",
      "         Function evaluations: 20\n",
      "         Gradient evaluations: 10\n"
     ]
    },
    {
     "data": {
      "text/plain": [
       "      fun: -0.23246557515821556\n",
       " hess_inv: array([[0.41057908]])\n",
       "      jac: array([1.86264515e-09])\n",
       "  message: 'Optimization terminated successfully.'\n",
       "     nfev: 20\n",
       "      nit: 9\n",
       "     njev: 10\n",
       "   status: 0\n",
       "  success: True\n",
       "        x: array([-0.45018362])"
      ]
     },
     "execution_count": 79,
     "metadata": {},
     "output_type": "execute_result"
    }
   ],
   "source": [
    "opt.minimize(opt_function, x0=6, method= 'bfgs', options={'disp':True})"
   ]
  },
  {
   "cell_type": "code",
   "execution_count": 81,
   "metadata": {},
   "outputs": [],
   "source": [
    "import numpy as np\n",
    "from scipy.optimize import root"
   ]
  },
  {
   "cell_type": "code",
   "execution_count": 82,
   "metadata": {},
   "outputs": [],
   "source": [
    "#defining the function, x+3.5cos(x):\n",
    "def root_fn(x):\n",
    "    return(x+ 3.5*(np.cos(x)))"
   ]
  },
  {
   "cell_type": "code",
   "execution_count": 83,
   "metadata": {},
   "outputs": [
    {
     "data": {
      "text/plain": [
       "    fjac: array([[-1.]])\n",
       "     fun: array([0.])\n",
       " message: 'The solution converged.'\n",
       "    nfev: 9\n",
       "     qtf: array([1.74660286e-12])\n",
       "       r: array([-4.28198138])\n",
       "  status: 1\n",
       " success: True\n",
       "       x: array([-1.21597614])"
      ]
     },
     "execution_count": 83,
     "metadata": {},
     "output_type": "execute_result"
    }
   ],
   "source": [
    "root(root_fn, 0)"
   ]
  },
  {
   "cell_type": "markdown",
   "metadata": {},
   "source": [
    "# Linear Algebra Using Scipy"
   ]
  },
  {
   "cell_type": "code",
   "execution_count": 87,
   "metadata": {},
   "outputs": [],
   "source": [
    "#Inverse of the matrix, note:the matrix should be a square matrix:\n",
    "import numpy as np\n",
    "import scipy.linalg "
   ]
  },
  {
   "cell_type": "code",
   "execution_count": 90,
   "metadata": {},
   "outputs": [
    {
     "data": {
      "text/plain": [
       "array([[1, 2, 3],\n",
       "       [4, 5, 6],\n",
       "       [7, 8, 9]])"
      ]
     },
     "execution_count": 90,
     "metadata": {},
     "output_type": "execute_result"
    }
   ],
   "source": [
    "#Taking a 3by3 matrix\n",
    "mat=  np.array([[1,2,3],[4,5,6],[7,8,9]])\n",
    "mat"
   ]
  },
  {
   "cell_type": "code",
   "execution_count": 91,
   "metadata": {},
   "outputs": [
    {
     "data": {
      "text/plain": [
       "array([[ 3.15251974e+15, -6.30503948e+15,  3.15251974e+15],\n",
       "       [-6.30503948e+15,  1.26100790e+16, -6.30503948e+15],\n",
       "       [ 3.15251974e+15, -6.30503948e+15,  3.15251974e+15]])"
      ]
     },
     "execution_count": 91,
     "metadata": {},
     "output_type": "execute_result"
    }
   ],
   "source": [
    "scipy.linalg.inv(mat)"
   ]
  },
  {
   "cell_type": "code",
   "execution_count": 92,
   "metadata": {},
   "outputs": [
    {
     "data": {
      "text/plain": [
       "0.0"
      ]
     },
     "execution_count": 92,
     "metadata": {},
     "output_type": "execute_result"
    }
   ],
   "source": [
    "#Finding the determinant of the matrix\n",
    "scipy.linalg.det(mat)"
   ]
  },
  {
   "cell_type": "code",
   "execution_count": 93,
   "metadata": {},
   "outputs": [
    {
     "data": {
      "text/plain": [
       "array([[2, 4, 4],\n",
       "       [3, 5, 1],\n",
       "       [2, 1, 1]])"
      ]
     },
     "execution_count": 93,
     "metadata": {},
     "output_type": "execute_result"
    }
   ],
   "source": [
    "#Solving linear equation:\n",
    "#2x+4y+4z= 20, 3x+5y+z=2, 2x+y+z=14\n",
    "mat_variables= np.array([[2,4,4],[3,5,1],[2,1,1]])\n",
    "mat_variables"
   ]
  },
  {
   "cell_type": "code",
   "execution_count": 94,
   "metadata": {},
   "outputs": [],
   "source": [
    "mat_values= np.array([20,2,14])"
   ]
  },
  {
   "cell_type": "code",
   "execution_count": 95,
   "metadata": {},
   "outputs": [
    {
     "data": {
      "text/plain": [
       "array([ 6. , -4.5,  6.5])"
      ]
     },
     "execution_count": 95,
     "metadata": {},
     "output_type": "execute_result"
    }
   ],
   "source": [
    "scipy.linalg.solve(mat_variables,mat_values)"
   ]
  },
  {
   "cell_type": "code",
   "execution_count": 96,
   "metadata": {},
   "outputs": [
    {
     "data": {
      "text/plain": [
       "array([[1, 2, 3],\n",
       "       [4, 5, 6],\n",
       "       [7, 8, 9]])"
      ]
     },
     "execution_count": 96,
     "metadata": {},
     "output_type": "execute_result"
    }
   ],
   "source": [
    "mat"
   ]
  },
  {
   "cell_type": "code",
   "execution_count": 97,
   "metadata": {},
   "outputs": [
    {
     "data": {
      "text/plain": [
       "(array([[-0.21483724,  0.88723069,  0.40824829],\n",
       "        [-0.52058739,  0.24964395, -0.81649658],\n",
       "        [-0.82633754, -0.38794278,  0.40824829]]),\n",
       " array([1.68481034e+01, 1.06836951e+00, 3.33475287e-16]),\n",
       " array([[-0.47967118, -0.57236779, -0.66506441],\n",
       "        [-0.77669099, -0.07568647,  0.62531805],\n",
       "        [-0.40824829,  0.81649658, -0.40824829]]))"
      ]
     },
     "execution_count": 97,
     "metadata": {},
     "output_type": "execute_result"
    }
   ],
   "source": [
    "scipy.linalg.svd(mat)\n",
    "#Three matrices formed on multiplication will give the original matrix,3 matrices formed are U,sigma,Vtranspose\n",
    "#U and Vtranspose are unitary matrices.\n",
    "#Sigma is coefficient matrix and like PCA this is also dimensionality reduction matrix, first coefficient carries maximum infor-\n",
    "#-mation, then second and then third, so if the original matrix on which SVD is carried out is very big then few starting-\n",
    "# coefficients can be considered and then by multiplying it with U and Vtranspose matrix we can get maximum information with -\n",
    "# dimensionality reduction and some loss."
   ]
  },
  {
   "cell_type": "markdown",
   "metadata": {},
   "source": [
    "# Eigen Values and Eigen Vectors"
   ]
  },
  {
   "cell_type": "code",
   "execution_count": 1,
   "metadata": {},
   "outputs": [],
   "source": [
    "import numpy as np\n",
    "import scipy.linalg"
   ]
  },
  {
   "cell_type": "code",
   "execution_count": 4,
   "metadata": {},
   "outputs": [
    {
     "data": {
      "text/plain": [
       "array([[3, 4],\n",
       "       [6, 8]])"
      ]
     },
     "execution_count": 4,
     "metadata": {},
     "output_type": "execute_result"
    }
   ],
   "source": [
    "#Printing the matrix:\n",
    "mat= np.array([[3,4],[6,8]])\n",
    "mat"
   ]
  },
  {
   "cell_type": "code",
   "execution_count": 15,
   "metadata": {},
   "outputs": [
    {
     "name": "stdout",
     "output_type": "stream",
     "text": [
      "[ 0.+0.j 11.+0.j]\n",
      "[[-0.8        -0.4472136 ]\n",
      " [ 0.6        -0.89442719]]\n"
     ]
    }
   ],
   "source": [
    "#Eigen Values:\n",
    "eigen_values, eigen_vectors=scipy.linalg.eig(mat)\n",
    "print(eigen_values)\n",
    "print(eigen_vectors)"
   ]
  },
  {
   "cell_type": "code",
   "execution_count": 13,
   "metadata": {},
   "outputs": [
    {
     "name": "stdout",
     "output_type": "stream",
     "text": [
      "0j\n",
      "(11+0j)\n"
     ]
    }
   ],
   "source": [
    "#printing the eigen values:\n",
    "first_eigen_value, second_eigen_value= eigen_values\n",
    "print(first_eigen_value)\n",
    "print(second_eigen_value)"
   ]
  },
  {
   "cell_type": "code",
   "execution_count": 16,
   "metadata": {},
   "outputs": [
    {
     "data": {
      "text/plain": [
       "array([-0.8,  0.6])"
      ]
     },
     "execution_count": 16,
     "metadata": {},
     "output_type": "execute_result"
    }
   ],
   "source": [
    "#printing the first eigen vector:\n",
    "eigen_vectors[:,0]"
   ]
  },
  {
   "cell_type": "code",
   "execution_count": 17,
   "metadata": {},
   "outputs": [
    {
     "data": {
      "text/plain": [
       "array([-0.4472136 , -0.89442719])"
      ]
     },
     "execution_count": 17,
     "metadata": {},
     "output_type": "execute_result"
    }
   ],
   "source": [
    "#printing the second eigen vector:\n",
    "eigen_vectors[:,1]"
   ]
  },
  {
   "cell_type": "markdown",
   "metadata": {},
   "source": [
    "# Statistics"
   ]
  },
  {
   "cell_type": "code",
   "execution_count": 1,
   "metadata": {},
   "outputs": [],
   "source": [
    "#importing the library:\n",
    "from scipy.stats import norm"
   ]
  },
  {
   "cell_type": "code",
   "execution_count": 2,
   "metadata": {},
   "outputs": [
    {
     "data": {
      "text/plain": [
       "array([ 2.40435112,  0.27070534, -1.1923801 ,  1.47011763,  0.59023162,\n",
       "        0.70102244,  0.89649136,  1.90455366,  0.02471632, -0.85653004])"
      ]
     },
     "execution_count": 2,
     "metadata": {},
     "output_type": "execute_result"
    }
   ],
   "source": [
    "#generating 10 random values having mean(loc)=0, standard deviation(scale)=1\n",
    "norm.rvs(loc=0, scale=1, size=10)"
   ]
  },
  {
   "cell_type": "code",
   "execution_count": 5,
   "metadata": {},
   "outputs": [
    {
     "data": {
      "text/plain": [
       "1.0"
      ]
     },
     "execution_count": 5,
     "metadata": {},
     "output_type": "execute_result"
    }
   ],
   "source": [
    "#Cumulative distribution function of 10 random numbers, having mean(loc)=0, standard deviation(scale)=1.\n",
    "norm.cdf(10,loc=0,scale=1)"
   ]
  },
  {
   "cell_type": "code",
   "execution_count": 6,
   "metadata": {},
   "outputs": [
    {
     "data": {
      "text/plain": [
       "0.7475074624530771"
      ]
     },
     "execution_count": 6,
     "metadata": {},
     "output_type": "execute_result"
    }
   ],
   "source": [
    "#Cumulative distribution function of 10 random numbers, having mean(loc)=9, standard deviation(scale)=1.5\n",
    "norm.cdf(10, loc=9, scale=1.5)"
   ]
  },
  {
   "cell_type": "code",
   "execution_count": 7,
   "metadata": {},
   "outputs": [
    {
     "data": {
      "text/plain": [
       "7.69459862670642e-23"
      ]
     },
     "execution_count": 7,
     "metadata": {},
     "output_type": "execute_result"
    }
   ],
   "source": [
    "#Probability distribution function of 10 random numbers, having mean(loc)=0, standard deviation(scale)=1.\n",
    "norm.pdf(10, loc=0, scale=1)"
   ]
  },
  {
   "cell_type": "code",
   "execution_count": 8,
   "metadata": {},
   "outputs": [
    {
     "data": {
      "text/plain": [
       "0.2129653370149015"
      ]
     },
     "execution_count": 8,
     "metadata": {},
     "output_type": "execute_result"
    }
   ],
   "source": [
    "#Probability distribution function of 10 random numbers, having mean(loc)=9, standard deviation(scale)=1.5\n",
    "norm.pdf(10, loc=9, scale=1.5)"
   ]
  },
  {
   "cell_type": "markdown",
   "metadata": {},
   "source": [
    "# Probability distribution function is a derivative of cumulative distribution function"
   ]
  },
  {
   "cell_type": "code",
   "execution_count": null,
   "metadata": {},
   "outputs": [],
   "source": []
  }
 ],
 "metadata": {
  "kernelspec": {
   "display_name": "Python 3",
   "language": "python",
   "name": "python3"
  },
  "language_info": {
   "codemirror_mode": {
    "name": "ipython",
    "version": 3
   },
   "file_extension": ".py",
   "mimetype": "text/x-python",
   "name": "python",
   "nbconvert_exporter": "python",
   "pygments_lexer": "ipython3",
   "version": "3.8.5"
  }
 },
 "nbformat": 4,
 "nbformat_minor": 4
}
